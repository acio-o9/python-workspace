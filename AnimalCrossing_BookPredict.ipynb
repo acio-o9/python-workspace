{
  "nbformat": 4,
  "nbformat_minor": 0,
  "metadata": {
    "colab": {
      "name": "AnimalCrossing_BookPredict.ipynb",
      "provenance": [],
      "mount_file_id": "1peBHes31PvTFj3pJ-RHEMaqCu3jUw9MZ",
      "authorship_tag": "ABX9TyNrnNRxcABmhK5z32i4OLZk",
      "include_colab_link": true
    },
    "kernelspec": {
      "name": "python3",
      "display_name": "Python 3"
    }
  },
  "cells": [
    {
      "cell_type": "markdown",
      "metadata": {
        "id": "view-in-github",
        "colab_type": "text"
      },
      "source": [
        "<a href=\"https://colab.research.google.com/github/acio-o9/python-workspace/blob/feature%2Fbook-value-predict-animal-crossing/AnimalCrossing_BookPredict.ipynb\" target=\"_parent\"><img src=\"https://colab.research.google.com/assets/colab-badge.svg\" alt=\"Open In Colab\"/></a>"
      ]
    },
    {
      "cell_type": "code",
      "metadata": {
        "id": "WSU6Dc0Q-fCu",
        "colab_type": "code",
        "colab": {}
      },
      "source": [
        "import pandas as pd\n",
        "import numpy as np"
      ],
      "execution_count": 0,
      "outputs": []
    },
    {
      "cell_type": "code",
      "metadata": {
        "id": "he_3bHlY-m7v",
        "colab_type": "code",
        "colab": {
          "base_uri": "https://localhost:8080/",
          "height": 390
        },
        "outputId": "880631f7-f7fa-438d-8e72-54e1d587070d"
      },
      "source": [
        "df = pd.read_csv('drive/My Drive/animal_crossing_book_values.csv')\n",
        "df"
      ],
      "execution_count": 2,
      "outputs": [
        {
          "output_type": "execute_result",
          "data": {
            "text/html": [
              "<div>\n",
              "<style scoped>\n",
              "    .dataframe tbody tr th:only-of-type {\n",
              "        vertical-align: middle;\n",
              "    }\n",
              "\n",
              "    .dataframe tbody tr th {\n",
              "        vertical-align: top;\n",
              "    }\n",
              "\n",
              "    .dataframe thead th {\n",
              "        text-align: right;\n",
              "    }\n",
              "</style>\n",
              "<table border=\"1\" class=\"dataframe\">\n",
              "  <thead>\n",
              "    <tr style=\"text-align: right;\">\n",
              "      <th></th>\n",
              "      <th>class</th>\n",
              "      <th>Mon-AM</th>\n",
              "      <th>Mon-PM</th>\n",
              "      <th>Tue-AM</th>\n",
              "      <th>Tue-PM</th>\n",
              "      <th>Wed-AM</th>\n",
              "      <th>Wed-PM</th>\n",
              "      <th>Thu-AM</th>\n",
              "      <th>Thu-PM</th>\n",
              "      <th>Fri-AM</th>\n",
              "      <th>Fri-PM</th>\n",
              "      <th>Sat-AM</th>\n",
              "      <th>Sat-PM</th>\n",
              "    </tr>\n",
              "  </thead>\n",
              "  <tbody>\n",
              "    <tr>\n",
              "      <th>0</th>\n",
              "      <td>wave</td>\n",
              "      <td>125</td>\n",
              "      <td>142</td>\n",
              "      <td>145</td>\n",
              "      <td>116</td>\n",
              "      <td>85</td>\n",
              "      <td>78</td>\n",
              "      <td>67</td>\n",
              "      <td>137</td>\n",
              "      <td>125</td>\n",
              "      <td>105</td>\n",
              "      <td>74</td>\n",
              "      <td>64</td>\n",
              "    </tr>\n",
              "    <tr>\n",
              "      <th>1</th>\n",
              "      <td>wave</td>\n",
              "      <td>96</td>\n",
              "      <td>97</td>\n",
              "      <td>106</td>\n",
              "      <td>59</td>\n",
              "      <td>54</td>\n",
              "      <td>47</td>\n",
              "      <td>114</td>\n",
              "      <td>96</td>\n",
              "      <td>59</td>\n",
              "      <td>54</td>\n",
              "      <td>122</td>\n",
              "      <td>132</td>\n",
              "    </tr>\n",
              "    <tr>\n",
              "      <th>2</th>\n",
              "      <td>third</td>\n",
              "      <td>86</td>\n",
              "      <td>102</td>\n",
              "      <td>156</td>\n",
              "      <td>214</td>\n",
              "      <td>142</td>\n",
              "      <td>126</td>\n",
              "      <td>84</td>\n",
              "      <td>86</td>\n",
              "      <td>64</td>\n",
              "      <td>41</td>\n",
              "      <td>43</td>\n",
              "      <td>55</td>\n",
              "    </tr>\n",
              "    <tr>\n",
              "      <th>3</th>\n",
              "      <td>wave</td>\n",
              "      <td>58</td>\n",
              "      <td>52</td>\n",
              "      <td>117</td>\n",
              "      <td>64</td>\n",
              "      <td>58</td>\n",
              "      <td>51</td>\n",
              "      <td>125</td>\n",
              "      <td>105</td>\n",
              "      <td>114</td>\n",
              "      <td>115</td>\n",
              "      <td>120</td>\n",
              "      <td>112</td>\n",
              "    </tr>\n",
              "    <tr>\n",
              "      <th>4</th>\n",
              "      <td>wave</td>\n",
              "      <td>85</td>\n",
              "      <td>76</td>\n",
              "      <td>71</td>\n",
              "      <td>103</td>\n",
              "      <td>141</td>\n",
              "      <td>115</td>\n",
              "      <td>91</td>\n",
              "      <td>145</td>\n",
              "      <td>81</td>\n",
              "      <td>71</td>\n",
              "      <td>140</td>\n",
              "      <td>115</td>\n",
              "    </tr>\n",
              "    <tr>\n",
              "      <th>5</th>\n",
              "      <td>wave</td>\n",
              "      <td>63</td>\n",
              "      <td>56</td>\n",
              "      <td>49</td>\n",
              "      <td>104</td>\n",
              "      <td>91</td>\n",
              "      <td>68</td>\n",
              "      <td>66</td>\n",
              "      <td>43</td>\n",
              "      <td>123</td>\n",
              "      <td>86</td>\n",
              "      <td>123</td>\n",
              "      <td>104</td>\n",
              "    </tr>\n",
              "    <tr>\n",
              "      <th>6</th>\n",
              "      <td>forth</td>\n",
              "      <td>58</td>\n",
              "      <td>98</td>\n",
              "      <td>121</td>\n",
              "      <td>136</td>\n",
              "      <td>167</td>\n",
              "      <td>153</td>\n",
              "      <td>53</td>\n",
              "      <td>50</td>\n",
              "      <td>46</td>\n",
              "      <td>43</td>\n",
              "      <td>39</td>\n",
              "      <td>35</td>\n",
              "    </tr>\n",
              "    <tr>\n",
              "      <th>7</th>\n",
              "      <td>wave</td>\n",
              "      <td>68</td>\n",
              "      <td>62</td>\n",
              "      <td>52</td>\n",
              "      <td>103</td>\n",
              "      <td>114</td>\n",
              "      <td>111</td>\n",
              "      <td>117</td>\n",
              "      <td>95</td>\n",
              "      <td>94</td>\n",
              "      <td>111</td>\n",
              "      <td>77</td>\n",
              "      <td>69</td>\n",
              "    </tr>\n",
              "    <tr>\n",
              "      <th>8</th>\n",
              "      <td>third</td>\n",
              "      <td>98</td>\n",
              "      <td>92</td>\n",
              "      <td>87</td>\n",
              "      <td>83</td>\n",
              "      <td>79</td>\n",
              "      <td>75</td>\n",
              "      <td>104</td>\n",
              "      <td>210</td>\n",
              "      <td>562</td>\n",
              "      <td>177</td>\n",
              "      <td>135</td>\n",
              "      <td>67</td>\n",
              "    </tr>\n",
              "    <tr>\n",
              "      <th>9</th>\n",
              "      <td>wave</td>\n",
              "      <td>89</td>\n",
              "      <td>112</td>\n",
              "      <td>107</td>\n",
              "      <td>91</td>\n",
              "      <td>99</td>\n",
              "      <td>63</td>\n",
              "      <td>59</td>\n",
              "      <td>55</td>\n",
              "      <td>114</td>\n",
              "      <td>119</td>\n",
              "      <td>70</td>\n",
              "      <td>110</td>\n",
              "    </tr>\n",
              "    <tr>\n",
              "      <th>10</th>\n",
              "      <td>third</td>\n",
              "      <td>98</td>\n",
              "      <td>89</td>\n",
              "      <td>83</td>\n",
              "      <td>150</td>\n",
              "      <td>161</td>\n",
              "      <td>373</td>\n",
              "      <td>179</td>\n",
              "      <td>143</td>\n",
              "      <td>62</td>\n",
              "      <td>58</td>\n",
              "      <td>43</td>\n",
              "      <td>54</td>\n",
              "    </tr>\n",
              "  </tbody>\n",
              "</table>\n",
              "</div>"
            ],
            "text/plain": [
              "    class  Mon-AM  Mon-PM  Tue-AM  ...  Fri-AM  Fri-PM  Sat-AM  Sat-PM\n",
              "0    wave     125     142     145  ...     125     105      74      64\n",
              "1    wave      96      97     106  ...      59      54     122     132\n",
              "2   third      86     102     156  ...      64      41      43      55\n",
              "3    wave      58      52     117  ...     114     115     120     112\n",
              "4    wave      85      76      71  ...      81      71     140     115\n",
              "5    wave      63      56      49  ...     123      86     123     104\n",
              "6   forth      58      98     121  ...      46      43      39      35\n",
              "7    wave      68      62      52  ...      94     111      77      69\n",
              "8   third      98      92      87  ...     562     177     135      67\n",
              "9    wave      89     112     107  ...     114     119      70     110\n",
              "10  third      98      89      83  ...      62      58      43      54\n",
              "\n",
              "[11 rows x 13 columns]"
            ]
          },
          "metadata": {
            "tags": []
          },
          "execution_count": 2
        }
      ]
    },
    {
      "cell_type": "code",
      "metadata": {
        "id": "IxBt8IR7F-6D",
        "colab_type": "code",
        "colab": {
          "base_uri": "https://localhost:8080/",
          "height": 34
        },
        "outputId": "19d8961e-67b9-4401-91e8-4f8ab97c5632"
      },
      "source": [
        "X, y = df.iloc[:, 1:], df.iloc[:, 0]\n",
        "print(X.shape, y.shape)"
      ],
      "execution_count": 3,
      "outputs": [
        {
          "output_type": "stream",
          "text": [
            "(11, 12) (11,)\n"
          ],
          "name": "stdout"
        }
      ]
    },
    {
      "cell_type": "code",
      "metadata": {
        "id": "9sTSuDQmGQP_",
        "colab_type": "code",
        "colab": {
          "base_uri": "https://localhost:8080/",
          "height": 204
        },
        "outputId": "197ab787-a26b-4336-8baa-0740d5b86a6d"
      },
      "source": [
        "X.head()"
      ],
      "execution_count": 4,
      "outputs": [
        {
          "output_type": "execute_result",
          "data": {
            "text/html": [
              "<div>\n",
              "<style scoped>\n",
              "    .dataframe tbody tr th:only-of-type {\n",
              "        vertical-align: middle;\n",
              "    }\n",
              "\n",
              "    .dataframe tbody tr th {\n",
              "        vertical-align: top;\n",
              "    }\n",
              "\n",
              "    .dataframe thead th {\n",
              "        text-align: right;\n",
              "    }\n",
              "</style>\n",
              "<table border=\"1\" class=\"dataframe\">\n",
              "  <thead>\n",
              "    <tr style=\"text-align: right;\">\n",
              "      <th></th>\n",
              "      <th>Mon-AM</th>\n",
              "      <th>Mon-PM</th>\n",
              "      <th>Tue-AM</th>\n",
              "      <th>Tue-PM</th>\n",
              "      <th>Wed-AM</th>\n",
              "      <th>Wed-PM</th>\n",
              "      <th>Thu-AM</th>\n",
              "      <th>Thu-PM</th>\n",
              "      <th>Fri-AM</th>\n",
              "      <th>Fri-PM</th>\n",
              "      <th>Sat-AM</th>\n",
              "      <th>Sat-PM</th>\n",
              "    </tr>\n",
              "  </thead>\n",
              "  <tbody>\n",
              "    <tr>\n",
              "      <th>0</th>\n",
              "      <td>125</td>\n",
              "      <td>142</td>\n",
              "      <td>145</td>\n",
              "      <td>116</td>\n",
              "      <td>85</td>\n",
              "      <td>78</td>\n",
              "      <td>67</td>\n",
              "      <td>137</td>\n",
              "      <td>125</td>\n",
              "      <td>105</td>\n",
              "      <td>74</td>\n",
              "      <td>64</td>\n",
              "    </tr>\n",
              "    <tr>\n",
              "      <th>1</th>\n",
              "      <td>96</td>\n",
              "      <td>97</td>\n",
              "      <td>106</td>\n",
              "      <td>59</td>\n",
              "      <td>54</td>\n",
              "      <td>47</td>\n",
              "      <td>114</td>\n",
              "      <td>96</td>\n",
              "      <td>59</td>\n",
              "      <td>54</td>\n",
              "      <td>122</td>\n",
              "      <td>132</td>\n",
              "    </tr>\n",
              "    <tr>\n",
              "      <th>2</th>\n",
              "      <td>86</td>\n",
              "      <td>102</td>\n",
              "      <td>156</td>\n",
              "      <td>214</td>\n",
              "      <td>142</td>\n",
              "      <td>126</td>\n",
              "      <td>84</td>\n",
              "      <td>86</td>\n",
              "      <td>64</td>\n",
              "      <td>41</td>\n",
              "      <td>43</td>\n",
              "      <td>55</td>\n",
              "    </tr>\n",
              "    <tr>\n",
              "      <th>3</th>\n",
              "      <td>58</td>\n",
              "      <td>52</td>\n",
              "      <td>117</td>\n",
              "      <td>64</td>\n",
              "      <td>58</td>\n",
              "      <td>51</td>\n",
              "      <td>125</td>\n",
              "      <td>105</td>\n",
              "      <td>114</td>\n",
              "      <td>115</td>\n",
              "      <td>120</td>\n",
              "      <td>112</td>\n",
              "    </tr>\n",
              "    <tr>\n",
              "      <th>4</th>\n",
              "      <td>85</td>\n",
              "      <td>76</td>\n",
              "      <td>71</td>\n",
              "      <td>103</td>\n",
              "      <td>141</td>\n",
              "      <td>115</td>\n",
              "      <td>91</td>\n",
              "      <td>145</td>\n",
              "      <td>81</td>\n",
              "      <td>71</td>\n",
              "      <td>140</td>\n",
              "      <td>115</td>\n",
              "    </tr>\n",
              "  </tbody>\n",
              "</table>\n",
              "</div>"
            ],
            "text/plain": [
              "   Mon-AM  Mon-PM  Tue-AM  Tue-PM  ...  Fri-AM  Fri-PM  Sat-AM  Sat-PM\n",
              "0     125     142     145     116  ...     125     105      74      64\n",
              "1      96      97     106      59  ...      59      54     122     132\n",
              "2      86     102     156     214  ...      64      41      43      55\n",
              "3      58      52     117      64  ...     114     115     120     112\n",
              "4      85      76      71     103  ...      81      71     140     115\n",
              "\n",
              "[5 rows x 12 columns]"
            ]
          },
          "metadata": {
            "tags": []
          },
          "execution_count": 4
        }
      ]
    },
    {
      "cell_type": "code",
      "metadata": {
        "id": "XMxa_3NkDscR",
        "colab_type": "code",
        "colab": {
          "base_uri": "https://localhost:8080/",
          "height": 578
        },
        "outputId": "6d7c675b-da17-4ab1-b898-49148b1e1bf4"
      },
      "source": [
        "from sklearn.preprocessing import StandardScaler\n",
        "\n",
        "# ベルを標準化する\n",
        "stdsc = StandardScaler()\n",
        "X_std = stdsc.fit_transform(X)\n",
        "X_std"
      ],
      "execution_count": 5,
      "outputs": [
        {
          "output_type": "execute_result",
          "data": {
            "text/plain": [
              "array([[ 2.07466539,  2.1020526 ,  1.36891378,  0.11576855, -0.61550555,\n",
              "        -0.41636419, -0.82988588,  0.65223482, -0.04518762,  0.40469811,\n",
              "        -0.41816361, -0.6366241 ],\n",
              "       [ 0.60721914,  0.32034706,  0.19673012, -1.25379523, -1.43537819,\n",
              "        -0.76954873,  0.50257064, -0.20787601, -0.52063996, -0.89264841,\n",
              "         0.86550142,  1.59903235],\n",
              "       [ 0.10120319,  0.51831434,  1.69952968,  2.47045715,  0.89200219,\n",
              "         0.13050221, -0.34793352, -0.41765914, -0.48462084, -1.22334458,\n",
              "        -1.24719728, -0.9325198 ],\n",
              "       [-1.31564147, -1.46135849,  0.52734603, -1.13365806, -1.32958817,\n",
              "        -0.72397653,  0.81442217, -0.01907119, -0.12442968,  0.65907979,\n",
              "         0.81201538,  0.94148634],\n",
              "       [ 0.05060159, -0.51111553, -0.85522956, -0.1965881 ,  0.86555469,\n",
              "         0.00517866, -0.14948255,  0.82006133, -0.36215585, -0.46019957,\n",
              "         1.34687581,  1.04011824],\n",
              "       [-1.06263349, -1.30298466, -1.51646137, -0.17256067, -0.45682053,\n",
              "        -0.53029469, -0.85823602, -1.3197266 , -0.05959527, -0.07862706,\n",
              "         0.89224445,  0.67846793],\n",
              "       [-1.31564147,  0.35994051,  0.64756999,  0.59631724,  1.5531898 ,\n",
              "         0.43811456, -1.22678783, -1.17287841, -0.61428966, -1.17246825,\n",
              "        -1.35416936, -1.59006582],\n",
              "       [-0.80962552, -1.06542392, -1.42629339, -0.1965881 ,  0.15147207,\n",
              "        -0.04039354,  0.58762106, -0.22885432, -0.26850614,  0.55732712,\n",
              "        -0.33793454, -0.47223759],\n",
              "       [ 0.70842233,  0.12237977, -0.37433371, -0.6771368 , -0.77419058,\n",
              "        -0.45054334,  0.21906925,  2.18365168,  3.10288318,  2.23624615,\n",
              "         1.2131607 , -0.53799219],\n",
              "       [ 0.25300797,  0.91424891,  0.22678611, -0.48491732, -0.24524049,\n",
              "        -0.58725994, -1.05668699, -1.06798685, -0.12442968,  0.76083245,\n",
              "        -0.5251357 ,  0.87573174],\n",
              "       [ 0.70842233,  0.00359941, -0.49455767,  0.93270133,  1.39450477,\n",
              "         2.94458553,  2.34532967,  0.7781047 , -0.49902849, -0.79089574,\n",
              "        -1.24719728, -0.9653971 ]])"
            ]
          },
          "metadata": {
            "tags": []
          },
          "execution_count": 5
        }
      ]
    },
    {
      "cell_type": "markdown",
      "metadata": {
        "id": "EoPaFXNDG79y",
        "colab_type": "text"
      },
      "source": [
        "# 標準化データだけでグラフを表示"
      ]
    },
    {
      "cell_type": "code",
      "metadata": {
        "id": "6ulpSe4ZPdbM",
        "colab_type": "code",
        "colab": {
          "base_uri": "https://localhost:8080/",
          "height": 297
        },
        "outputId": "56379eef-296a-4424-f0d2-7d23fcf5db17"
      },
      "source": [
        "import matplotlib.pyplot as plt\n",
        "colors = {'wave': 'red', 'third': 'blue', 'forth': 'green'}\n",
        "dayOfWeek = ['Mon-AM', 'Mon-PM', 'Tue-AM', 'Tue-PM', 'Wed-AM', 'Wed-PM',\n",
        "             'Thu-AM', 'Thu-PM', 'Fri-AM', 'Fri-PM', 'Sat-AM', 'Sat-PM']\n",
        "\n",
        "for x, label in zip(X.values, y):\n",
        "    plt.plot(dayOfWeek, x, color=colors[label])\n",
        "\n",
        "plt.xticks(rotation=45)\n",
        "plt.tight_layout()\n",
        "plt.show()"
      ],
      "execution_count": 14,
      "outputs": [
        {
          "output_type": "display_data",
          "data": {
            "image/png": "[encoded data removed]",
            "text/plain": [
              "<Figure size 432x288 with 1 Axes>"
            ]
          },
          "metadata": {
            "tags": [],
            "needs_background": "light"
          }
        }
      ]
    },
    {
      "cell_type": "code",
      "metadata": {
        "id": "_Bmh3MuKGjnt",
        "colab_type": "code",
        "colab": {
          "base_uri": "https://localhost:8080/",
          "height": 297
        },
        "outputId": "d520e533-ea76-4f8f-ec1c-d69c5e319c45"
      },
      "source": [
        "for x, label in zip(X_std, y):\n",
        "    plt.plot(dayOfWeek, x, color=colors[label])\n",
        "plt.xticks(rotation=45)\n",
        "plt.tight_layout()\n",
        "plt.show()"
      ],
      "execution_count": 16,
      "outputs": [
        {
          "output_type": "display_data",
          "data": {
            "image/png": "[encoded data removed]",
            "text/plain": [
              "<Figure size 432x288 with 1 Axes>"
            ]
          },
          "metadata": {
            "tags": [],
            "needs_background": "light"
          }
        }
      ]
    },
    {
      "cell_type": "markdown",
      "metadata": {
        "id": "67C2kHcFLHTi",
        "colab_type": "text"
      },
      "source": [
        "# ロジスティック回帰を使ってモデルを作成"
      ]
    },
    {
      "cell_type": "code",
      "metadata": {
        "id": "wQwy34ccHuI_",
        "colab_type": "code",
        "colab": {
          "base_uri": "https://localhost:8080/",
          "height": 102
        },
        "outputId": "7a749b35-bd33-461c-e4f1-5150294877c6"
      },
      "source": [
        "from sklearn.linear_model import LogisticRegression\n",
        "lr = LogisticRegression(solver='liblinear')\n",
        "lr.fit(X, y)"
      ],
      "execution_count": 18,
      "outputs": [
        {
          "output_type": "execute_result",
          "data": {
            "text/plain": [
              "LogisticRegression(C=1.0, class_weight=None, dual=False, fit_intercept=True,\n",
              "                   intercept_scaling=1, l1_ratio=None, max_iter=100,\n",
              "                   multi_class='auto', n_jobs=None, penalty='l2',\n",
              "                   random_state=None, solver='liblinear', tol=0.0001, verbose=0,\n",
              "                   warm_start=False)"
            ]
          },
          "metadata": {
            "tags": []
          },
          "execution_count": 18
        }
      ]
    },
    {
      "cell_type": "markdown",
      "metadata": {
        "id": "rUBLweSuK8m3",
        "colab_type": "text"
      },
      "source": [
        "# 適当な値でパターンを予測する"
      ]
    },
    {
      "cell_type": "code",
      "metadata": {
        "id": "nHcgbNtKIOUt",
        "colab_type": "code",
        "colab": {
          "base_uri": "https://localhost:8080/",
          "height": 51
        },
        "outputId": "5c0f21b8-8818-4d54-b080-502b94643d62"
      },
      "source": [
        "test = [[125, 142, 145, 116, 85, 78, 67, 137, 100, 105, 74, 0]]\n",
        "print(lr.predict(test))\n",
        "print(lr.predict_proba(test))"
      ],
      "execution_count": 68,
      "outputs": [
        {
          "output_type": "stream",
          "text": [
            "['wave']\n",
            "[[1.10021483e-05 1.12510569e-03 9.98863892e-01]]\n"
          ],
          "name": "stdout"
        }
      ]
    },
    {
      "cell_type": "code",
      "metadata": {
        "id": "vdLUz_-bGJhI",
        "colab_type": "code",
        "colab": {
          "base_uri": "https://localhost:8080/",
          "height": 51
        },
        "outputId": "8a2fd1aa-a137-4fd0-e3f7-47a457c43ea0"
      },
      "source": [
        "test = [[98, 92, 87, 83, 79, 75, 104, 210, 562, 177, 135, 67]]\n",
        "print(lr.predict(test))\n",
        "print(lr.predict_proba(test))"
      ],
      "execution_count": 69,
      "outputs": [
        {
          "output_type": "stream",
          "text": [
            "['third']\n",
            "[[1.18237366e-16 9.99634858e-01 3.65141698e-04]]\n"
          ],
          "name": "stdout"
        }
      ]
    },
    {
      "cell_type": "code",
      "metadata": {
        "id": "WZqppP17PqBt",
        "colab_type": "code",
        "colab": {
          "base_uri": "https://localhost:8080/",
          "height": 51
        },
        "outputId": "b11a90c7-72ba-457c-96a3-3adbe252a67b"
      },
      "source": [
        "test = [[58, 98, 121, 136, 167, 153, 53, 50, 46, 43, 39, 35]]\n",
        "print(lr.predict(test))\n",
        "print(lr.predict_proba(test))"
      ],
      "execution_count": 70,
      "outputs": [
        {
          "output_type": "stream",
          "text": [
            "['forth']\n",
            "[[9.97553542e-01 2.04543718e-03 4.01020610e-04]]\n"
          ],
          "name": "stdout"
        }
      ]
    },
    {
      "cell_type": "markdown",
      "metadata": {
        "id": "gEWvONIiLuLU",
        "colab_type": "text"
      },
      "source": [
        "# 判定に重要な特徴量をランダムフォレストを使って探す\n"
      ]
    },
    {
      "cell_type": "code",
      "metadata": {
        "id": "uO1EiJovJMGx",
        "colab_type": "code",
        "colab": {
          "base_uri": "https://localhost:8080/",
          "height": 153
        },
        "outputId": "f1d74e45-8e07-48f5-f63a-085ea5230a6d"
      },
      "source": [
        "from sklearn.ensemble import RandomForestClassifier\n",
        "forest = RandomForestClassifier(n_estimators=100)\n",
        "forest.fit(X_std, y)"
      ],
      "execution_count": 91,
      "outputs": [
        {
          "output_type": "execute_result",
          "data": {
            "text/plain": [
              "RandomForestClassifier(bootstrap=True, ccp_alpha=0.0, class_weight=None,\n",
              "                       criterion='gini', max_depth=None, max_features='auto',\n",
              "                       max_leaf_nodes=None, max_samples=None,\n",
              "                       min_impurity_decrease=0.0, min_impurity_split=None,\n",
              "                       min_samples_leaf=1, min_samples_split=2,\n",
              "                       min_weight_fraction_leaf=0.0, n_estimators=100,\n",
              "                       n_jobs=None, oob_score=False, random_state=None,\n",
              "                       verbose=0, warm_start=False)"
            ]
          },
          "metadata": {
            "tags": []
          },
          "execution_count": 91
        }
      ]
    },
    {
      "cell_type": "code",
      "metadata": {
        "id": "ixsbHyEuP54p",
        "colab_type": "code",
        "colab": {
          "base_uri": "https://localhost:8080/",
          "height": 119
        },
        "outputId": "74af1c21-5759-4a8c-d0e3-3a65eb3a0710"
      },
      "source": [
        "test = [[125, 142, 145, 116, 85, 78, 67, 137, 100, 105, 74, 0]]\n",
        "print(forest.predict(test))\n",
        "print(forest.predict_proba(test))\n",
        "test = [[98, 92, 87, 83, 79, 75, 104, 210, 562, 177, 135, 67]]\n",
        "print(forest.predict(test))\n",
        "print(forest.predict_proba(test))\n",
        "test = [[58, 98, 200, 136, 167, 120, 53, 50, 46, 43, 39, 35]]\n",
        "print(forest.predict(test))\n",
        "print(forest.predict_proba(test))"
      ],
      "execution_count": 94,
      "outputs": [
        {
          "output_type": "stream",
          "text": [
            "['third']\n",
            "[[0.13 0.57 0.3 ]]\n",
            "['third']\n",
            "[[0.11 0.55 0.34]]\n",
            "['third']\n",
            "[[0.11 0.55 0.34]]\n"
          ],
          "name": "stdout"
        }
      ]
    },
    {
      "cell_type": "markdown",
      "metadata": {
        "id": "hO98SMMOQ26d",
        "colab_type": "text"
      },
      "source": [
        "サンプル数が少なすぎて全然うまく動いていない。。。"
      ]
    },
    {
      "cell_type": "code",
      "metadata": {
        "id": "JqYFycv0KBFC",
        "colab_type": "code",
        "colab": {
          "base_uri": "https://localhost:8080/",
          "height": 221
        },
        "outputId": "cd93912c-03dd-43c5-ba15-07339ac090e3"
      },
      "source": [
        "feature_list = []\n",
        "for index in range(0, len(dayOfWeek)):\n",
        "    feature_list.append([dayOfWeek[index], forest.feature_importances_[index]])\n",
        "    print('%2d) %-*s %f' % (index+1, 20, dayOfWeek[index], forest.feature_importances_[index]))"
      ],
      "execution_count": 95,
      "outputs": [
        {
          "output_type": "stream",
          "text": [
            " 1) Mon-AM               0.059924\n",
            " 2) Mon-PM               0.043426\n",
            " 3) Tue-AM               0.015158\n",
            " 4) Tue-PM               0.097076\n",
            " 5) Wed-AM               0.103361\n",
            " 6) Wed-PM               0.111431\n",
            " 7) Thu-AM               0.065361\n",
            " 8) Thu-PM               0.071054\n",
            " 9) Fri-AM               0.071282\n",
            "10) Fri-PM               0.091205\n",
            "11) Sat-AM               0.117242\n",
            "12) Sat-PM               0.153480\n"
          ],
          "name": "stdout"
        }
      ]
    },
    {
      "cell_type": "code",
      "metadata": {
        "id": "d1mtgxcYMEoX",
        "colab_type": "code",
        "colab": {
          "base_uri": "https://localhost:8080/",
          "height": 421
        },
        "outputId": "d71de97b-e78f-4d2f-e427-ee0e51176b3f"
      },
      "source": [
        "f_data = pd.DataFrame(feature_list)\n",
        "f_data"
      ],
      "execution_count": 96,
      "outputs": [
        {
          "output_type": "execute_result",
          "data": {
            "text/html": [
              "<div>\n",
              "<style scoped>\n",
              "    .dataframe tbody tr th:only-of-type {\n",
              "        vertical-align: middle;\n",
              "    }\n",
              "\n",
              "    .dataframe tbody tr th {\n",
              "        vertical-align: top;\n",
              "    }\n",
              "\n",
              "    .dataframe thead th {\n",
              "        text-align: right;\n",
              "    }\n",
              "</style>\n",
              "<table border=\"1\" class=\"dataframe\">\n",
              "  <thead>\n",
              "    <tr style=\"text-align: right;\">\n",
              "      <th></th>\n",
              "      <th>0</th>\n",
              "      <th>1</th>\n",
              "    </tr>\n",
              "  </thead>\n",
              "  <tbody>\n",
              "    <tr>\n",
              "      <th>0</th>\n",
              "      <td>Mon-AM</td>\n",
              "      <td>0.059924</td>\n",
              "    </tr>\n",
              "    <tr>\n",
              "      <th>1</th>\n",
              "      <td>Mon-PM</td>\n",
              "      <td>0.043426</td>\n",
              "    </tr>\n",
              "    <tr>\n",
              "      <th>2</th>\n",
              "      <td>Tue-AM</td>\n",
              "      <td>0.015158</td>\n",
              "    </tr>\n",
              "    <tr>\n",
              "      <th>3</th>\n",
              "      <td>Tue-PM</td>\n",
              "      <td>0.097076</td>\n",
              "    </tr>\n",
              "    <tr>\n",
              "      <th>4</th>\n",
              "      <td>Wed-AM</td>\n",
              "      <td>0.103361</td>\n",
              "    </tr>\n",
              "    <tr>\n",
              "      <th>5</th>\n",
              "      <td>Wed-PM</td>\n",
              "      <td>0.111431</td>\n",
              "    </tr>\n",
              "    <tr>\n",
              "      <th>6</th>\n",
              "      <td>Thu-AM</td>\n",
              "      <td>0.065361</td>\n",
              "    </tr>\n",
              "    <tr>\n",
              "      <th>7</th>\n",
              "      <td>Thu-PM</td>\n",
              "      <td>0.071054</td>\n",
              "    </tr>\n",
              "    <tr>\n",
              "      <th>8</th>\n",
              "      <td>Fri-AM</td>\n",
              "      <td>0.071282</td>\n",
              "    </tr>\n",
              "    <tr>\n",
              "      <th>9</th>\n",
              "      <td>Fri-PM</td>\n",
              "      <td>0.091205</td>\n",
              "    </tr>\n",
              "    <tr>\n",
              "      <th>10</th>\n",
              "      <td>Sat-AM</td>\n",
              "      <td>0.117242</td>\n",
              "    </tr>\n",
              "    <tr>\n",
              "      <th>11</th>\n",
              "      <td>Sat-PM</td>\n",
              "      <td>0.153480</td>\n",
              "    </tr>\n",
              "  </tbody>\n",
              "</table>\n",
              "</div>"
            ],
            "text/plain": [
              "         0         1\n",
              "0   Mon-AM  0.059924\n",
              "1   Mon-PM  0.043426\n",
              "2   Tue-AM  0.015158\n",
              "3   Tue-PM  0.097076\n",
              "4   Wed-AM  0.103361\n",
              "5   Wed-PM  0.111431\n",
              "6   Thu-AM  0.065361\n",
              "7   Thu-PM  0.071054\n",
              "8   Fri-AM  0.071282\n",
              "9   Fri-PM  0.091205\n",
              "10  Sat-AM  0.117242\n",
              "11  Sat-PM  0.153480"
            ]
          },
          "metadata": {
            "tags": []
          },
          "execution_count": 96
        }
      ]
    },
    {
      "cell_type": "markdown",
      "metadata": {
        "id": "q16mPfehNmPw",
        "colab_type": "text"
      },
      "source": [
        "# 重要な特徴量順にソートする"
      ]
    },
    {
      "cell_type": "code",
      "metadata": {
        "id": "FqFTlB4ZMwUA",
        "colab_type": "code",
        "colab": {
          "base_uri": "https://localhost:8080/",
          "height": 204
        },
        "outputId": "f2ca6447-0ff4-4d72-e286-6e83537f6954"
      },
      "source": [
        "# 曜日全体の上位５指標\n",
        "f_data.sort_values(by=1, ascending=False).head(5)"
      ],
      "execution_count": 98,
      "outputs": [
        {
          "output_type": "execute_result",
          "data": {
            "text/html": [
              "<div>\n",
              "<style scoped>\n",
              "    .dataframe tbody tr th:only-of-type {\n",
              "        vertical-align: middle;\n",
              "    }\n",
              "\n",
              "    .dataframe tbody tr th {\n",
              "        vertical-align: top;\n",
              "    }\n",
              "\n",
              "    .dataframe thead th {\n",
              "        text-align: right;\n",
              "    }\n",
              "</style>\n",
              "<table border=\"1\" class=\"dataframe\">\n",
              "  <thead>\n",
              "    <tr style=\"text-align: right;\">\n",
              "      <th></th>\n",
              "      <th>0</th>\n",
              "      <th>1</th>\n",
              "    </tr>\n",
              "  </thead>\n",
              "  <tbody>\n",
              "    <tr>\n",
              "      <th>11</th>\n",
              "      <td>Sat-PM</td>\n",
              "      <td>0.153480</td>\n",
              "    </tr>\n",
              "    <tr>\n",
              "      <th>10</th>\n",
              "      <td>Sat-AM</td>\n",
              "      <td>0.117242</td>\n",
              "    </tr>\n",
              "    <tr>\n",
              "      <th>5</th>\n",
              "      <td>Wed-PM</td>\n",
              "      <td>0.111431</td>\n",
              "    </tr>\n",
              "    <tr>\n",
              "      <th>4</th>\n",
              "      <td>Wed-AM</td>\n",
              "      <td>0.103361</td>\n",
              "    </tr>\n",
              "    <tr>\n",
              "      <th>3</th>\n",
              "      <td>Tue-PM</td>\n",
              "      <td>0.097076</td>\n",
              "    </tr>\n",
              "  </tbody>\n",
              "</table>\n",
              "</div>"
            ],
            "text/plain": [
              "         0         1\n",
              "11  Sat-PM  0.153480\n",
              "10  Sat-AM  0.117242\n",
              "5   Wed-PM  0.111431\n",
              "4   Wed-AM  0.103361\n",
              "3   Tue-PM  0.097076"
            ]
          },
          "metadata": {
            "tags": []
          },
          "execution_count": 98
        }
      ]
    },
    {
      "cell_type": "code",
      "metadata": {
        "id": "j_nedIMRNy2l",
        "colab_type": "code",
        "colab": {
          "base_uri": "https://localhost:8080/",
          "height": 204
        },
        "outputId": "a3f7807f-366f-4fb1-e025-d45e745eff0e"
      },
      "source": [
        "# 土曜日の情報を除いた上位5指標\n",
        "f_data.iloc[0:10, :].sort_values(by=1, ascending=False).head(5)"
      ],
      "execution_count": 99,
      "outputs": [
        {
          "output_type": "execute_result",
          "data": {
            "text/html": [
              "<div>\n",
              "<style scoped>\n",
              "    .dataframe tbody tr th:only-of-type {\n",
              "        vertical-align: middle;\n",
              "    }\n",
              "\n",
              "    .dataframe tbody tr th {\n",
              "        vertical-align: top;\n",
              "    }\n",
              "\n",
              "    .dataframe thead th {\n",
              "        text-align: right;\n",
              "    }\n",
              "</style>\n",
              "<table border=\"1\" class=\"dataframe\">\n",
              "  <thead>\n",
              "    <tr style=\"text-align: right;\">\n",
              "      <th></th>\n",
              "      <th>0</th>\n",
              "      <th>1</th>\n",
              "    </tr>\n",
              "  </thead>\n",
              "  <tbody>\n",
              "    <tr>\n",
              "      <th>5</th>\n",
              "      <td>Wed-PM</td>\n",
              "      <td>0.111431</td>\n",
              "    </tr>\n",
              "    <tr>\n",
              "      <th>4</th>\n",
              "      <td>Wed-AM</td>\n",
              "      <td>0.103361</td>\n",
              "    </tr>\n",
              "    <tr>\n",
              "      <th>3</th>\n",
              "      <td>Tue-PM</td>\n",
              "      <td>0.097076</td>\n",
              "    </tr>\n",
              "    <tr>\n",
              "      <th>9</th>\n",
              "      <td>Fri-PM</td>\n",
              "      <td>0.091205</td>\n",
              "    </tr>\n",
              "    <tr>\n",
              "      <th>8</th>\n",
              "      <td>Fri-AM</td>\n",
              "      <td>0.071282</td>\n",
              "    </tr>\n",
              "  </tbody>\n",
              "</table>\n",
              "</div>"
            ],
            "text/plain": [
              "        0         1\n",
              "5  Wed-PM  0.111431\n",
              "4  Wed-AM  0.103361\n",
              "3  Tue-PM  0.097076\n",
              "9  Fri-PM  0.091205\n",
              "8  Fri-AM  0.071282"
            ]
          },
          "metadata": {
            "tags": []
          },
          "execution_count": 99
        }
      ]
    }
  ]
}